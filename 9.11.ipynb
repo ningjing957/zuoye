{
 "cells": [
  {
   "cell_type": "markdown",
   "metadata": {},
   "source": [
    "# 数学函数、字符串和对象\n",
    "## 本章介绍Python函数来执行常见的数学运算\n",
    "- 函数是完成一个特殊任务的一组语句，可以理解为一个函数相当于一个小功能，但是在开发中，需要注意一个函数的长度最好不要超过一屏\n",
    "- Python中的内置函数是不需要Import导入的\n",
    "<img src=\"../Photo/15.png\"></img>"
   ]
  },
  {
   "cell_type": "code",
   "execution_count": null,
   "metadata": {},
   "outputs": [],
   "source": [
    "a,b,c = eval(input('输入三个数字以,分隔'))\n",
    "choose_method = input('请选择你要执行的方式:max,min,pow2_sum')\n",
    "if choose_method == 'max':\n",
    "    max_= max(a,b,c)\n",
    "    print(max_)\n",
    "elif choose_method == 'min':\n",
    "    min_ = min(a,b,c)\n",
    "    print(min_)\n",
    "elif choose_method == 'pow2_sum':\n",
    "    pow_sum_ = pow(a,2) + pow(b,2) + pow(c,2)\n",
    "    print(pow_sum_)"
   ]
  },
  {
   "cell_type": "code",
   "execution_count": 1,
   "metadata": {},
   "outputs": [
    {
     "data": {
      "text/plain": [
       "29579"
      ]
     },
     "execution_count": 1,
     "metadata": {},
     "output_type": "execute_result"
    }
   ],
   "source": [
    "ord('王')"
   ]
  },
  {
   "cell_type": "markdown",
   "metadata": {},
   "source": [
    "## 尝试练习Python内置函数"
   ]
  },
  {
   "cell_type": "markdown",
   "metadata": {},
   "source": [
    "## Python中的math模块提供了许多数学函数\n",
    "<img src=\"../Photo/16.png\"></img>\n",
    "<img src=\"../Photo/17.png\"></img>\n"
   ]
  },
  {
   "cell_type": "markdown",
   "metadata": {},
   "source": [
    "## 两个数学常量PI和e，可以通过使用math.pi 和math.e调用"
   ]
  },
  {
   "cell_type": "markdown",
   "metadata": {},
   "source": [
    "## EP:\n",
    "- 通过math库，写一个程序，使得用户输入三个顶点(x,y)返回三个角度\n",
    "- 注意：Python计算角度为弧度制，需要将其转换为角度\n",
    "<img src=\"../Photo/18.png\">"
   ]
  },
  {
   "cell_type": "code",
   "execution_count": 8,
   "metadata": {},
   "outputs": [
    {
     "name": "stdout",
     "output_type": "stream",
     "text": [
      "请输入三点坐标：4,5,6,3,2,1\n",
      "71.56505117707799 71.56505117707799 36.86989764584401\n"
     ]
    }
   ],
   "source": [
    "import math\n",
    "x1,y1,x2,y2,x3,y3 = eval(input('请输入三点坐标：'))\n",
    "a = math.sqrt((x2-x3)*(x2-x3)+(y2-y3)*(y2-y3))\n",
    "b = math.sqrt((x1-x3)*(x1-x3)+(y1-y3)*(y1-y3))\n",
    "c = math.sqrt((x1-x2)*(x1-x2)+(y1-y2)*(y1-y2))\n",
    "A = (math.acos((a*a-b*b-c*c)/(-2*b*c)))\n",
    "B = (math.acos((b*b-a*a-c*c)/(-2*a*c)))\n",
    "C = (math.acos((c*c-b*b-a*a)/(-2*b*a)))\n",
    "print(math.degrees(A),math.degrees(B),math.degrees(C))"
   ]
  },
  {
   "cell_type": "markdown",
   "metadata": {},
   "source": [
    "## 字符串和字符\n",
    "- 在Python中，字符串必须是在单引号或者双引号内，在多段换行的字符串中可以使用“”“\n",
    "- 在使用”“”时，给予其变量则变为字符串，否则当多行注释使用"
   ]
  },
  {
   "cell_type": "markdown",
   "metadata": {},
   "source": [
    "## ASCII码与Unicode码\n",
    "- <img src=\"../Photo/19.png\"></img>\n",
    "- <img src=\"../Photo/20.png\"></img>\n",
    "- <img src=\"../Photo/21.png\"></img>"
   ]
  },
  {
   "cell_type": "markdown",
   "metadata": {},
   "source": [
    "## 函数ord、chr\n",
    "- ord 返回ASCII码值\n",
    "- chr 返回字符"
   ]
  },
  {
   "cell_type": "markdown",
   "metadata": {},
   "source": [
    "## EP:\n",
    "- 利用ord与chr进行简单邮箱加密"
   ]
  },
  {
   "cell_type": "code",
   "execution_count": 9,
   "metadata": {},
   "outputs": [
    {
     "name": "stdout",
     "output_type": "stream",
     "text": [
      "GLMHHGFDLT",
      "",
      "Bw\n"
     ]
    }
   ],
   "source": [
    "E = '389443208@qq.com'\n",
    "result = ''\n",
    "for jiami in E:\n",
    "    result = result+chr(ord(jiami)+20)\n",
    "print(result)"
   ]
  },
  {
   "cell_type": "code",
   "execution_count": null,
   "metadata": {},
   "outputs": [],
   "source": [
    "import hashlib\n",
    "str_= 'ningjing'\n",
    "h1 = hashlib.md5()\n",
    "print('md5加密前为：'+str_)\n",
    "print('md5加密前为：'+h1.)"
   ]
  },
  {
   "cell_type": "markdown",
   "metadata": {},
   "source": [
    "## 转义序列 \\\n",
    "- a = \"He said,\"Johon's program is easy to read\"\n",
    "- 转掉它原来的意思\n",
    "- 一般情况下只有当语句与默认方法相撞的时候，就需要转义"
   ]
  },
  {
   "cell_type": "markdown",
   "metadata": {},
   "source": [
    "## 高级print\n",
    "- 参数 end： 以什么方式结束打印\n",
    "- 默认换行打印"
   ]
  },
  {
   "cell_type": "markdown",
   "metadata": {},
   "source": [
    "## 函数str\n",
    "- 将类型强制转换成字符串类型\n",
    "- 其他一些以后会学到(list,set,tuple...)"
   ]
  },
  {
   "cell_type": "markdown",
   "metadata": {},
   "source": [
    "## 字符串连接操作\n",
    "- 直接使用 “+” \n",
    "- join() 函数 "
   ]
  },
  {
   "cell_type": "markdown",
   "metadata": {},
   "source": [
    "## EP：\n",
    "- 将 “Welcome” “to” \"Python\" 拼接\n",
    "- 将int型 100 与 “joker is a bad man” 拼接\n",
    "- 从控制台读取字符串\n",
    "> 输入一个名字返回夸奖此人"
   ]
  },
  {
   "cell_type": "code",
   "execution_count": 11,
   "metadata": {},
   "outputs": [
    {
     "name": "stdout",
     "output_type": "stream",
     "text": [
      "Wall time: 0 ns\n"
     ]
    },
    {
     "data": {
      "text/plain": [
       "'Welcome to Python'"
      ]
     },
     "execution_count": 11,
     "metadata": {},
     "output_type": "execute_result"
    }
   ],
   "source": [
    "%time ' '.join(['Welcome','to','Python'])"
   ]
  },
  {
   "cell_type": "code",
   "execution_count": 12,
   "metadata": {},
   "outputs": [
    {
     "data": {
      "text/plain": [
       "'100 joker is a bad man'"
      ]
     },
     "execution_count": 12,
     "metadata": {},
     "output_type": "execute_result"
    }
   ],
   "source": [
    "' '.join(['100','joker is a bad man'])"
   ]
  },
  {
   "cell_type": "code",
   "execution_count": null,
   "metadata": {},
   "outputs": [],
   "source": [
    "name = "
   ]
  },
  {
   "cell_type": "markdown",
   "metadata": {},
   "source": [
    "## 实例研究：最小数量硬币\n",
    "- 开发一个程序，让用户输入总金额，这是一个用美元和美分表示的浮点值，返回一个由美元、两角五分的硬币、一角的硬币、五分硬币、以及美分个数\n",
    "<img src=\"../Photo/22.png\"></img>"
   ]
  },
  {
   "cell_type": "markdown",
   "metadata": {},
   "source": [
    "- Python弱项，对于浮点型的处理并不是很好，但是处理数据的时候使用的是Numpy类型\n",
    "<img src=\"../Photo/23.png\"></img>"
   ]
  },
  {
   "cell_type": "markdown",
   "metadata": {},
   "source": [
    "## id与type\n",
    "- id 查看内存地址，在判断语句中将会使用\n",
    "- type 查看元素类型"
   ]
  },
  {
   "cell_type": "markdown",
   "metadata": {},
   "source": [
    "## 其他格式化语句见书"
   ]
  },
  {
   "cell_type": "markdown",
   "metadata": {},
   "source": [
    "# Homework\n",
    "- 1\n",
    "<img src=\"../Photo/24.png\"><img>\n",
    "<img src=\"../Photo/25.png\"><img>"
   ]
  },
  {
   "cell_type": "code",
   "execution_count": 15,
   "metadata": {},
   "outputs": [
    {
     "name": "stdout",
     "output_type": "stream",
     "text": [
      "请输入正五边形的半径：5.5\n",
      "71.92\n"
     ]
    }
   ],
   "source": [
    "import math\n",
    "r = eval(input('请输入正五边形的半径：'))\n",
    "s = 2*r*math.sin(math.pi/5)\n",
    "area = 5*s*s/(4*math.tan(math.pi/5))\n",
    "print (round(area,2))"
   ]
  },
  {
   "cell_type": "markdown",
   "metadata": {},
   "source": [
    "- 2\n",
    "<img src=\"../Photo/26.png\"><img>"
   ]
  },
  {
   "cell_type": "code",
   "execution_count": 25,
   "metadata": {},
   "outputs": [
    {
     "name": "stdout",
     "output_type": "stream",
     "text": [
      "请输入第一个点的坐标：39.55,-116.25\n",
      "请输入第二个点的坐标：41.5,87.37\n",
      "10691.79\n"
     ]
    }
   ],
   "source": [
    "import math\n",
    "r = 6371.01\n",
    "x1,y1 = eval(input('请输入第一个点的坐标：'))\n",
    "x2,y2 = eval(input('请输入第二个点的坐标：'))\n",
    "d = r* math.acos(math.sin(math.radians(x1))*math.sin(math.radians(x2))+math.cos(math.radians(x1))*math.cos(math.radians(x2))*math.cos(math.radians(y1-y2)))\n",
    "print (round(d,2))"
   ]
  },
  {
   "cell_type": "markdown",
   "metadata": {},
   "source": [
    "- 3\n",
    "<img src=\"../Photo/27.png\"><img>"
   ]
  },
  {
   "cell_type": "code",
   "execution_count": 29,
   "metadata": {},
   "outputs": [
    {
     "name": "stdout",
     "output_type": "stream",
     "text": [
      "请输入五边形的边长：5.5\n",
      "52.04\n"
     ]
    }
   ],
   "source": [
    "import math\n",
    "s = eval(input('请输入五边形的边长：'))\n",
    "area = (5*s**2)/(4*math.tan(math.pi/5))\n",
    "print (round(area,2))"
   ]
  },
  {
   "cell_type": "markdown",
   "metadata": {},
   "source": [
    "- 4\n",
    "<img src=\"../Photo/28.png\"><img>"
   ]
  },
  {
   "cell_type": "code",
   "execution_count": 32,
   "metadata": {},
   "outputs": [
    {
     "name": "stdout",
     "output_type": "stream",
     "text": [
      "请输入正多边形的边数：5\n",
      "请输入正多边形的边长：6.5\n",
      "72.69\n"
     ]
    }
   ],
   "source": [
    "import math\n",
    "n = eval(input('请输入正多边形的边数：'))\n",
    "s = eval(input('请输入正多边形的边长：'))\n",
    "area = (n*s**2)/(4*math.tan(math.pi/n))\n",
    "print (round(area,2))"
   ]
  },
  {
   "cell_type": "markdown",
   "metadata": {},
   "source": [
    "- 5\n",
    "<img src=\"../Photo/29.png\"><img>\n",
    "<img src=\"../Photo/30.png\"><img>"
   ]
  },
  {
   "cell_type": "code",
   "execution_count": 33,
   "metadata": {},
   "outputs": [
    {
     "name": "stdout",
     "output_type": "stream",
     "text": [
      "请输入一个ASCII值：69\n",
      "E\n"
     ]
    }
   ],
   "source": [
    "ASCII = eval(input('请输入一个ASCII值：'))\n",
    "print (chr(ASCII))"
   ]
  },
  {
   "cell_type": "markdown",
   "metadata": {},
   "source": [
    "- 6\n",
    "<img src=\"../Photo/31.png\"><img>"
   ]
  },
  {
   "cell_type": "code",
   "execution_count": 45,
   "metadata": {},
   "outputs": [
    {
     "name": "stdout",
     "output_type": "stream",
     "text": [
      "请输入员工姓名：ningjing\n",
      "请输入每周工作时间：10\n",
      "请输入每小时报酬：9.75\n",
      "请输入联邦预扣税：0.2\n",
      "请输入州预扣税：0.09\n",
      "员工姓名：ningjing\n",
      "每周工作时间：10\n",
      "每小时报酬：9.75\n",
      "每周报酬：97.5\n",
      "联邦预扣税：19.5\n",
      "州预扣税：8.775\n",
      "共应交税：28.275\n",
      "到手报酬：69.225\n"
     ]
    }
   ],
   "source": [
    "name = str(input('请输入员工姓名：'))\n",
    "hour = eval(input('请输入每周工作时间：'))\n",
    "money = eval(input('请输入每小时报酬：'))\n",
    "lbyks = eval(input('请输入联邦预扣税：'))\n",
    "zyks = eval(input('请输入州预扣税：'))\n",
    "mzbc = hour*money\n",
    "lbyksh = mzbc*lbyks\n",
    "zyksh = mzbc*zyks\n",
    "dsbc = mzbc-lbyksh-zyksh\n",
    "print ('员工姓名：'+name)\n",
    "print ('每周工作时间：'+str(hour))\n",
    "print ('每小时报酬：'+str(money))\n",
    "print ('每周报酬：'+str(mzbc))\n",
    "print ('联邦预扣税：'+str(lbyksh))\n",
    "print ('州预扣税：'+str(zyksh))\n",
    "print ('共应交税：'+str(lbyksh+zyksh))\n",
    "print ('到手报酬：'+str(dsbc))"
   ]
  },
  {
   "cell_type": "markdown",
   "metadata": {},
   "source": [
    "- 7\n",
    "<img src=\"../Photo/32.png\"><img>"
   ]
  },
  {
   "cell_type": "code",
   "execution_count": 58,
   "metadata": {},
   "outputs": [
    {
     "name": "stdout",
     "output_type": "stream",
     "text": [
      "请输入一个4为位整数：3698\n",
      "8963\n"
     ]
    }
   ],
   "source": [
    "num = eval(input ('请输入一个4为位整数：'))\n",
    "q = num%10\n",
    "q1 = num//10\n",
    "b = q1%10\n",
    "b2 = q1//10\n",
    "s = b2%10\n",
    "s2 = b2//10\n",
    "g = s2%10\n",
    "print (str(q)+str(b)+str(s)+str(g))"
   ]
  },
  {
   "cell_type": "markdown",
   "metadata": {},
   "source": [
    "- 8 进阶：\n",
    "> 加密一串文本，并将解密后的文件写入本地保存"
   ]
  },
  {
   "cell_type": "code",
   "execution_count": 1,
   "metadata": {},
   "outputs": [
    {
     "name": "stdout",
     "output_type": "stream",
     "text": [
      "输入一串文本>>aeufnsvnsovn\n",
      "MD5加密后为 ：89711408edc76e8d6ae62b5fa1ef3058\n"
     ]
    },
    {
     "ename": "NameError",
     "evalue": "name 'f' is not defined",
     "output_type": "error",
     "traceback": [
      "\u001b[1;31m---------------------------------------------------------------------------\u001b[0m",
      "\u001b[1;31mNameError\u001b[0m                                 Traceback (most recent call last)",
      "\u001b[1;32m<ipython-input-1-cbb62fc5f956>\u001b[0m in \u001b[0;36m<module>\u001b[1;34m()\u001b[0m\n\u001b[0;32m      4\u001b[0m \u001b[0mhl\u001b[0m\u001b[1;33m.\u001b[0m\u001b[0mupdate\u001b[0m\u001b[1;33m(\u001b[0m\u001b[0mwenben\u001b[0m\u001b[1;33m.\u001b[0m\u001b[0mencode\u001b[0m\u001b[1;33m(\u001b[0m\u001b[0mencoding\u001b[0m\u001b[1;33m=\u001b[0m\u001b[1;34m'utf-8'\u001b[0m\u001b[1;33m)\u001b[0m\u001b[1;33m)\u001b[0m\u001b[1;33m\u001b[0m\u001b[0m\n\u001b[0;32m      5\u001b[0m \u001b[0mprint\u001b[0m\u001b[1;33m(\u001b[0m\u001b[1;34m'MD5加密后为 ：'\u001b[0m \u001b[1;33m+\u001b[0m \u001b[0mhl\u001b[0m\u001b[1;33m.\u001b[0m\u001b[0mhexdigest\u001b[0m\u001b[1;33m(\u001b[0m\u001b[1;33m)\u001b[0m\u001b[1;33m)\u001b[0m\u001b[1;33m\u001b[0m\u001b[0m\n\u001b[1;32m----> 6\u001b[1;33m \u001b[0mf\u001b[0m\u001b[1;33m.\u001b[0m\u001b[0mwrite\u001b[0m\u001b[1;33m(\u001b[0m\u001b[0mwenben\u001b[0m\u001b[1;33m)\u001b[0m\u001b[1;33m\u001b[0m\u001b[0m\n\u001b[0m\u001b[0;32m      7\u001b[0m \u001b[0mf\u001b[0m\u001b[1;33m=\u001b[0m\u001b[0mopen\u001b[0m\u001b[1;33m(\u001b[0m\u001b[1;34m\"1.txt\"\u001b[0m\u001b[1;33m,\u001b[0m\u001b[1;34m\"a+\"\u001b[0m\u001b[1;33m)\u001b[0m\u001b[1;33m\u001b[0m\u001b[0m\n",
      "\u001b[1;31mNameError\u001b[0m: name 'f' is not defined"
     ]
    }
   ],
   "source": [
    "import hashlib\n",
    "wenben = input('输入一串文本>>')\n",
    "hl = hashlib.md5()\n",
    "hl.update(wenben.encode(encoding='utf-8'))\n",
    "print('MD5加密后为 ：' + hl.hexdigest())\n",
    "f.write(wenben)\n",
    "f=open(\"1.txt\",\"a+\") "
   ]
  }
 ],
 "metadata": {
  "kernelspec": {
   "display_name": "Python 3",
   "language": "python",
   "name": "python3"
  },
  "language_info": {
   "codemirror_mode": {
    "name": "ipython",
    "version": 3
   },
   "file_extension": ".py",
   "mimetype": "text/x-python",
   "name": "python",
   "nbconvert_exporter": "python",
   "pygments_lexer": "ipython3",
   "version": "3.6.4"
  }
 },
 "nbformat": 4,
 "nbformat_minor": 2
}
