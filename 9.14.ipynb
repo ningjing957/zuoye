{
 "cells": [
  {
   "cell_type": "markdown",
   "metadata": {},
   "source": [
    "# 函数\n",
    "\n",
    "- 函数可以用来定义可重复代码，组织和简化\n",
    "- 一般来说一个函数在实际开发中为一个小功能\n",
    "- 一个类为一个大功能\n",
    "- 同样函数的长度不要超过一屏"
   ]
  },
  {
   "cell_type": "code",
   "execution_count": 26,
   "metadata": {},
   "outputs": [],
   "source": [
    "import os\n",
    "def name(name):\n",
    "    os.system('say {}真是一个**！'.format(name))"
   ]
  },
  {
   "cell_type": "code",
   "execution_count": 31,
   "metadata": {},
   "outputs": [
    {
     "ename": "TypeError",
     "evalue": "name() takes 0 positional arguments but 1 was given",
     "output_type": "error",
     "traceback": [
      "\u001b[1;31m---------------------------------------------------------------------------\u001b[0m",
      "\u001b[1;31mTypeError\u001b[0m                                 Traceback (most recent call last)",
      "\u001b[1;32m<ipython-input-31-5ca02ab53521>\u001b[0m in \u001b[0;36m<module>\u001b[1;34m()\u001b[0m\n\u001b[1;32m----> 1\u001b[1;33m \u001b[0mname\u001b[0m\u001b[1;33m(\u001b[0m\u001b[1;34m'小飞侠'\u001b[0m\u001b[1;33m)\u001b[0m\u001b[1;33m\u001b[0m\u001b[0m\n\u001b[0m",
      "\u001b[1;31mTypeError\u001b[0m: name() takes 0 positional arguments but 1 was given"
     ]
    }
   ],
   "source": [
    "name('小飞侠')"
   ]
  },
  {
   "cell_type": "markdown",
   "metadata": {},
   "source": [
    "\n",
    "# 定义一个函数\n",
    "\n",
    "hdef function_name(list of parameters):\n",
    "    \n",
    "    do something\n",
    "![](../Photo/69.png)\n",
    "- 以前使用的random 或者range 或者print.. 其实都是函数或者类"
   ]
  },
  {
   "cell_type": "code",
   "execution_count": 28,
   "metadata": {},
   "outputs": [
    {
     "ename": "SyntaxError",
     "evalue": "invalid syntax (<ipython-input-28-ec31dfd6184b>, line 1)",
     "output_type": "error",
     "traceback": [
      "\u001b[1;36m  File \u001b[1;32m\"<ipython-input-28-ec31dfd6184b>\"\u001b[1;36m, line \u001b[1;32m1\u001b[0m\n\u001b[1;33m    def .sushu():\u001b[0m\n\u001b[1;37m        ^\u001b[0m\n\u001b[1;31mSyntaxError\u001b[0m\u001b[1;31m:\u001b[0m invalid syntax\n"
     ]
    }
   ],
   "source": [
    "def .sushu():\n",
    "    num = eval(input('请输入一个数字：'))\n",
    "    (i<num)and(i!=1)\n",
    "    if num%i==0\n",
    "    print('这不是一个素数')"
   ]
  },
  {
   "cell_type": "code",
   "execution_count": 29,
   "metadata": {},
   "outputs": [
    {
     "ename": "NameError",
     "evalue": "name 'sushu' is not defined",
     "output_type": "error",
     "traceback": [
      "\u001b[1;31m---------------------------------------------------------------------------\u001b[0m",
      "\u001b[1;31mNameError\u001b[0m                                 Traceback (most recent call last)",
      "\u001b[1;32m<ipython-input-29-e2d2a6e1e991>\u001b[0m in \u001b[0;36m<module>\u001b[1;34m()\u001b[0m\n\u001b[1;32m----> 1\u001b[1;33m \u001b[0msushu\u001b[0m\u001b[1;33m(\u001b[0m\u001b[1;33m)\u001b[0m\u001b[1;33m\u001b[0m\u001b[0m\n\u001b[0m",
      "\u001b[1;31mNameError\u001b[0m: name 'sushu' is not defined"
     ]
    }
   ],
   "source": [
    "sushu()"
   ]
  },
  {
   "cell_type": "markdown",
   "metadata": {},
   "source": [
    "## 调用一个函数\n",
    "- functionName()\n",
    "- \"()\" 就代表调用"
   ]
  },
  {
   "cell_type": "markdown",
   "metadata": {},
   "source": [
    "![](../Photo/70.png)"
   ]
  },
  {
   "cell_type": "markdown",
   "metadata": {},
   "source": [
    "## 带返回值和不带返回值的函数\n",
    "- return 返回的内容\n",
    "- return 返回多个值\n",
    "- 一般情况下，在多个函数协同完成一个功能的时候，那么将会有返回值"
   ]
  },
  {
   "cell_type": "markdown",
   "metadata": {},
   "source": [
    "![](../Photo/71.png)\n",
    "\n",
    "- 当然也可以自定义返回None"
   ]
  },
  {
   "cell_type": "markdown",
   "metadata": {},
   "source": [
    "## EP：\n",
    "![](../Photo/72.png)"
   ]
  },
  {
   "cell_type": "markdown",
   "metadata": {},
   "source": [
    "## 类型和关键字参数\n",
    "- 普通参数\n",
    "- 多个参数\n",
    "- 默认值参数\n",
    "- 不定长参数"
   ]
  },
  {
   "cell_type": "markdown",
   "metadata": {},
   "source": [
    "## 普通参数"
   ]
  },
  {
   "cell_type": "markdown",
   "metadata": {},
   "source": [
    "## 多个参数"
   ]
  },
  {
   "cell_type": "code",
   "execution_count": null,
   "metadata": {},
   "outputs": [],
   "source": [
    "def "
   ]
  },
  {
   "cell_type": "markdown",
   "metadata": {},
   "source": [
    "## 默认值参数"
   ]
  },
  {
   "cell_type": "markdown",
   "metadata": {},
   "source": [
    "## 强制命名"
   ]
  },
  {
   "cell_type": "markdown",
   "metadata": {},
   "source": [
    "## 不定长参数\n",
    "- \\*args\n",
    "> - 不定长，来多少装多少，不装也是可以的\n",
    "  - 返回的数据类型是元组\n",
    "  - args 名字是可以修改的，只是我们约定俗成的是args\n",
    "- \\**kwargs \n",
    "> - 返回的字典\n",
    "  - 输入的一定要是表达式（键值对）\n",
    "- name,\\*args,name2,\\**kwargs  使用参数名"
   ]
  },
  {
   "cell_type": "markdown",
   "metadata": {},
   "source": [
    "## 变量的作用域\n",
    "- 局部变量 local\n",
    "- 全局变量 global\n",
    "- globals 函数返回一个全局变量的字典，包括所有导入的变量\n",
    "- locals() 函数会以字典类型返回当前位置的全部局部变量。"
   ]
  },
  {
   "cell_type": "markdown",
   "metadata": {},
   "source": [
    "## 注意：\n",
    "- global ：在进行赋值操作的时候需要声明\n",
    "- 官方解释：This is because when you make an assignment to a variable in a scope, that variable becomes local to that scope and shadows any similarly named variable in the outer scope.\n",
    "- ![](../Photo/73.png)"
   ]
  },
  {
   "cell_type": "markdown",
   "metadata": {},
   "source": [
    "# Homework\n",
    "- 1\n",
    "![](../Photo/74.png)"
   ]
  },
  {
   "cell_type": "code",
   "execution_count": 35,
   "metadata": {},
   "outputs": [],
   "source": [
    "def getPentagonalNumber():\n",
    "    count = 0\n",
    "    for n in range(1,101):\n",
    "        result = n*(3*n-1)/2\n",
    "        count = count+1\n",
    "        print (int(result),end=' ')\n",
    "        if count%10 == 0:\n",
    "            print('\\n')"
   ]
  },
  {
   "cell_type": "code",
   "execution_count": 36,
   "metadata": {},
   "outputs": [
    {
     "name": "stdout",
     "output_type": "stream",
     "text": [
      "1 5 12 22 35 51 70 92 117 145 \n",
      "\n",
      "176 210 247 287 330 376 425 477 532 590 \n",
      "\n",
      "651 715 782 852 925 1001 1080 1162 1247 1335 \n",
      "\n",
      "1426 1520 1617 1717 1820 1926 2035 2147 2262 2380 \n",
      "\n",
      "2501 2625 2752 2882 3015 3151 3290 3432 3577 3725 \n",
      "\n",
      "3876 4030 4187 4347 4510 4676 4845 5017 5192 5370 \n",
      "\n",
      "5551 5735 5922 6112 6305 6501 6700 6902 7107 7315 \n",
      "\n",
      "7526 7740 7957 8177 8400 8626 8855 9087 9322 9560 \n",
      "\n",
      "9801 10045 10292 10542 10795 11051 11310 11572 11837 12105 \n",
      "\n",
      "12376 12650 12927 13207 13490 13776 14065 14357 14652 14950 \n",
      "\n"
     ]
    }
   ],
   "source": [
    "getPentagonalNumber()"
   ]
  },
  {
   "cell_type": "markdown",
   "metadata": {},
   "source": [
    "- 2 \n",
    "![](../Photo/75.png)"
   ]
  },
  {
   "cell_type": "code",
   "execution_count": 5,
   "metadata": {},
   "outputs": [],
   "source": [
    "def sumDigits():\n",
    "    x = eval(input('请输入一个三位数：'))\n",
    "    a = x%10\n",
    "    b = x//10\n",
    "    c = b%10\n",
    "    d = b//10\n",
    "    y = a+c+d\n",
    "    print(y)"
   ]
  },
  {
   "cell_type": "code",
   "execution_count": 6,
   "metadata": {},
   "outputs": [
    {
     "name": "stdout",
     "output_type": "stream",
     "text": [
      "请输入一个三位数：356\n",
      "14\n"
     ]
    }
   ],
   "source": [
    "sumDigits()"
   ]
  },
  {
   "cell_type": "markdown",
   "metadata": {},
   "source": [
    "- 3\n",
    "![](../Photo/76.png)"
   ]
  },
  {
   "cell_type": "code",
   "execution_count": 22,
   "metadata": {},
   "outputs": [],
   "source": [
    "def displaySortedNumbers():\n",
    "    a,b,c = eval(input('请输入三个整数'))\n",
    "    if a>=b and a>=c:\n",
    "        if b>=c:\n",
    "            print (str(a)+ '>' +str(b) + '>' + str(c))\n",
    "        else:\n",
    "            print (str(a)+ '>' +str(c) + '>' + str(b))\n",
    "    elif b>=a and b>=c:\n",
    "        if a>=c:\n",
    "            print (str(b)+ '>' +str(a) + '>' + str(c))\n",
    "        else:\n",
    "            print (str(b)+ '>' +str(c) + '>' + str(a))\n",
    "    elif c>=a and c>=b:\n",
    "        if a>=b:\n",
    "            print (str(c)+ '>' +str(a) + '>' + str(b))\n",
    "        else:\n",
    "            print (str(c)+ '>' +str(b) + '>' + str(a))"
   ]
  },
  {
   "cell_type": "code",
   "execution_count": 27,
   "metadata": {},
   "outputs": [
    {
     "name": "stdout",
     "output_type": "stream",
     "text": [
      "请输入三个整数2,6,1\n",
      "6>2>1\n"
     ]
    }
   ],
   "source": [
    "displaySortedNumbers()"
   ]
  },
  {
   "cell_type": "markdown",
   "metadata": {},
   "source": [
    "- 4\n",
    "![](../Photo/77.png)"
   ]
  },
  {
   "cell_type": "code",
   "execution_count": 5,
   "metadata": {},
   "outputs": [],
   "source": [
    "def futureInvestmentValue(investmentAmount,monthlyInterestRate,years=1):\n",
    "    money=investmentAmount\n",
    "    month=years*12\n",
    "    rate=monthlyInterestRate/12\n",
    "    fmoney=money*((1+rate)**month)\n",
    "    return fmoney\n"
   ]
  },
  {
   "cell_type": "code",
   "execution_count": 7,
   "metadata": {},
   "outputs": [
    {
     "name": "stdout",
     "output_type": "stream",
     "text": [
      "请输入本金：1000\n",
      "请输入年利率：9\n",
      "\n",
      "\n",
      "Years             Future Value\n",
      "1                   1093.81\n",
      "2                   1196.41\n",
      "3                   1308.65\n",
      "4                   1431.41\n",
      "5                   1565.68\n",
      "6                   1712.55\n",
      "7                   1873.2\n",
      "8                   2048.92\n",
      "9                   2241.12\n",
      "10                   2451.36\n",
      "11                   2681.31\n",
      "12                   2932.84\n",
      "13                   3207.96\n",
      "14                   3508.89\n",
      "15                   3838.04\n",
      "16                   4198.08\n",
      "17                   4591.89\n",
      "18                   5022.64\n",
      "19                   5493.8\n",
      "20                   6009.15\n",
      "21                   6572.85\n",
      "22                   7189.43\n",
      "23                   7863.85\n",
      "24                   8601.53\n",
      "25                   9408.41\n",
      "26                   10290.99\n",
      "27                   11256.35\n",
      "28                   12312.28\n",
      "29                   13467.25\n",
      "30                   14730.58\n"
     ]
    }
   ],
   "source": [
    "money1=eval(input('请输入本金：'))\n",
    "rate1=eval(input('请输入年利率：'))\n",
    "years1=1\n",
    "print('\\n')\n",
    "print('Years             Future Value')\n",
    "while years1 <=30:\n",
    "    futuervalue=futureInvestmentValue(money1,rate1/100,years1)\n",
    "    years1 += 1\n",
    "    print(str(years1-1)+'                   '+str(round(futuervalue,2)))"
   ]
  },
  {
   "cell_type": "markdown",
   "metadata": {},
   "source": [
    "- 5\n",
    "![](../Photo/78.png)"
   ]
  },
  {
   "cell_type": "code",
   "execution_count": 8,
   "metadata": {},
   "outputs": [],
   "source": [
    "def printChars(ch1,ch2,numberPerLine):\n",
    "    x=ch1\n",
    "    y=ch2\n",
    "    j=0\n",
    "    for i in range(x,y+1):\n",
    "        print(i,end='  ')\n",
    "        j += 1\n",
    "        if j%numberPerLine==0:\n",
    "            print('\\n')\n"
   ]
  },
  {
   "cell_type": "code",
   "execution_count": 9,
   "metadata": {},
   "outputs": [
    {
     "name": "stdout",
     "output_type": "stream",
     "text": [
      "1  2  3  4  5  6  7  8  9  10  \n",
      "\n",
      "11  12  13  14  15  16  17  18  19  20  \n",
      "\n",
      "21  22  23  24  25  26  27  28  29  30  \n",
      "\n",
      "31  32  33  34  35  36  37  38  39  40  \n",
      "\n",
      "41  42  43  44  45  46  47  48  49  50  \n",
      "\n"
     ]
    }
   ],
   "source": [
    "printChars(1,50,10)"
   ]
  },
  {
   "cell_type": "markdown",
   "metadata": {},
   "source": [
    "- 6\n",
    "![](../Photo/79.png)"
   ]
  },
  {
   "cell_type": "code",
   "execution_count": 1,
   "metadata": {},
   "outputs": [],
   "source": [
    "def numberOfDaysInAYear():\n",
    "    for years in range(2010,2021):\n",
    "        if ((years%4 == 0) and (years%100 != 0)) or (years % 400 ==0):\n",
    "            print(366)\n",
    "        else:\n",
    "            print(365)"
   ]
  },
  {
   "cell_type": "code",
   "execution_count": 2,
   "metadata": {},
   "outputs": [
    {
     "name": "stdout",
     "output_type": "stream",
     "text": [
      "365\n",
      "365\n",
      "366\n",
      "365\n",
      "365\n",
      "365\n",
      "366\n",
      "365\n",
      "365\n",
      "365\n",
      "366\n"
     ]
    }
   ],
   "source": [
    "numberOfDaysInAYear()"
   ]
  },
  {
   "cell_type": "markdown",
   "metadata": {},
   "source": [
    "- 7\n",
    "![](../Photo/80.png)"
   ]
  },
  {
   "cell_type": "code",
   "execution_count": 10,
   "metadata": {},
   "outputs": [],
   "source": [
    "def distance(x1,y1,x2,y2):\n",
    "    a=x1\n",
    "    b=x2\n",
    "    c=y1\n",
    "    d=y2\n",
    "    nums=((a-b)*(a-b) + (c-d)*(c-d))**0.5\n",
    "    return nums\n"
   ]
  },
  {
   "cell_type": "code",
   "execution_count": 14,
   "metadata": {},
   "outputs": [
    {
     "name": "stdout",
     "output_type": "stream",
     "text": [
      "请输入第一个点的坐标： 6,2\n",
      "请输入第二个点的坐标： 3,5\n",
      "两点之间的距离为： 4.242640687119285\n"
     ]
    }
   ],
   "source": [
    "X1,Y1=eval(input('请输入第一个点的坐标： '))\n",
    "X2,Y2=eval(input('请输入第二个点的坐标： '))\n",
    "length=distance(X1,Y1,X2,Y2)\n",
    "print('两点之间的距离为： '+str(length))"
   ]
  },
  {
   "cell_type": "markdown",
   "metadata": {},
   "source": [
    "- 8\n",
    "![](../Photo/81.png)"
   ]
  },
  {
   "cell_type": "code",
   "execution_count": 16,
   "metadata": {},
   "outputs": [],
   "source": [
    "def meisen(p):\n",
    "    number = 2**p-1\n",
    "    return number\n"
   ]
  },
  {
   "cell_type": "code",
   "execution_count": 17,
   "metadata": {},
   "outputs": [
    {
     "name": "stdout",
     "output_type": "stream",
     "text": [
      "p            2^p-1\n",
      "2             3\n",
      "3             7\n",
      "5             31\n",
      "7             127\n",
      "11             2047\n",
      "13             8191\n",
      "17             131071\n",
      "19             524287\n",
      "23             8388607\n",
      "29             536870911\n",
      "31             2147483647\n"
     ]
    }
   ],
   "source": [
    "\n",
    "print('p            2^p-1')\n",
    "for i in range(2,32):\n",
    "    for j in range(2,i):\n",
    "        if i % j ==0:\n",
    "            break\n",
    "    else:\n",
    "        numbers=meisen(i)\n",
    "        print(str(i)+'             '+str(numbers))"
   ]
  },
  {
   "cell_type": "markdown",
   "metadata": {},
   "source": [
    "- 9\n",
    "![](../Photo/82.png)\n",
    "![](../Photo/83.png)"
   ]
  },
  {
   "cell_type": "markdown",
   "metadata": {},
   "source": [
    "- 10\n",
    "![](../Photo/84.png)"
   ]
  },
  {
   "cell_type": "markdown",
   "metadata": {},
   "source": [
    "- 11 \n",
    "### 去网上寻找如何用Python代码发送邮件"
   ]
  }
 ],
 "metadata": {
  "kernelspec": {
   "display_name": "Python 3",
   "language": "python",
   "name": "python3"
  },
  "language_info": {
   "codemirror_mode": {
    "name": "ipython",
    "version": 3
   },
   "file_extension": ".py",
   "mimetype": "text/x-python",
   "name": "python",
   "nbconvert_exporter": "python",
   "pygments_lexer": "ipython3",
   "version": "3.6.4"
  }
 },
 "nbformat": 4,
 "nbformat_minor": 2
}
