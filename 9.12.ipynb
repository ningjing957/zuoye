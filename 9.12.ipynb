{
 "cells": [
  {
   "cell_type": "markdown",
   "metadata": {},
   "source": [
    "# 选择\n",
    "## 布尔类型、数值和表达式\n",
    "![](../Photo/33.png)\n",
    "- 注意：比较运算符的相等是两个等到，一个等到代表赋值\n",
    "- 在Python中可以用整型0来代表False，其他数字来代表True\n",
    "- 后面还会讲到 is 在判断语句中的用发"
   ]
  },
  {
   "cell_type": "code",
   "execution_count": 3,
   "metadata": {
    "scrolled": true
   },
   "outputs": [
    {
     "ename": "IndentationError",
     "evalue": "expected an indented block (<ipython-input-3-aee8337a82c7>, line 3)",
     "output_type": "error",
     "traceback": [
      "\u001b[1;36m  File \u001b[1;32m\"<ipython-input-3-aee8337a82c7>\"\u001b[1;36m, line \u001b[1;32m3\u001b[0m\n\u001b[1;33m    print ('您的成绩为A！')\u001b[0m\n\u001b[1;37m        ^\u001b[0m\n\u001b[1;31mIndentationError\u001b[0m\u001b[1;31m:\u001b[0m expected an indented block\n"
     ]
    }
   ],
   "source": [
    "chengji = eval(input('请输入分数：'))\n",
    "if 100>=chengji>=90:\n",
    "print ('您的成绩为A！')\n",
    "if 90>chengji>=80:\n",
    "print ('您的成绩为B！')\n",
    "if 80>chengji>=70:\n",
    "print ('您的成绩为C！')\n",
    "if 70>chengji>=60:\n",
    "print ('您的成绩为D！')\n",
    "if 60>chengji:\n",
    "print ('退学吧！')"
   ]
  },
  {
   "cell_type": "code",
   "execution_count": null,
   "metadata": {},
   "outputs": [],
   "source": [
    "import random\n",
    "\n",
    "random.randint(10,100)\n",
    "while True:\n",
    "    shu = eval(input('请输入一个数：'))\n",
    "if 10>shu:\n",
    "    print ('您输入的数太小了！')\n",
    "if 100<shu:\n",
    "    print ('您输入的数太大了！')\n",
    "    "
   ]
  },
  {
   "cell_type": "markdown",
   "metadata": {},
   "source": [
    "## 字符串的比较使用ASCII值"
   ]
  },
  {
   "cell_type": "markdown",
   "metadata": {},
   "source": [
    "## Markdown \n",
    "- https://github.com/younghz/Markdown"
   ]
  },
  {
   "cell_type": "markdown",
   "metadata": {},
   "source": [
    "## EP:\n",
    "- <img src=\"../Photo/34.png\"></img>\n",
    "- 输入一个数字，判断其实奇数还是偶数"
   ]
  },
  {
   "cell_type": "markdown",
   "metadata": {},
   "source": [
    "## 产生随机数字\n",
    "- 函数random.randint(a,b) 可以用来产生一个a和b之间且包括a和b的随机整数"
   ]
  },
  {
   "cell_type": "markdown",
   "metadata": {},
   "source": [
    "##  其他random方法\n",
    "- random.random 返回0.0到1.0之间前闭后开区间的随机浮点\n",
    "- random.randrange(a,b) 前闭后开"
   ]
  },
  {
   "cell_type": "markdown",
   "metadata": {},
   "source": [
    "## EP：\n",
    "- 产生两个随机整数number1和number2，然后显示给用户，使用户输入数字的和，并判定其是否正确\n",
    "- 进阶:写一个随机序号点名程序"
   ]
  },
  {
   "cell_type": "code",
   "execution_count": null,
   "metadata": {},
   "outputs": [
    {
     "name": "stdout",
     "output_type": "stream",
     "text": [
      "28\n",
      "41\n"
     ]
    }
   ],
   "source": [
    "import random\n",
    "suijishu1 = random.randint(0,100)\n",
    "print (suijishu1)\n",
    "suijishu2 = random.randint(0,100)\n",
    "print (suijishu2)\n",
    "sum = suijishu1+suijishu2\n",
    "daan = eval(input('请输入正确答案：'))\n",
    "if daan == sum:\n",
    "    print ('你好棒棒呦！')\n",
    "else:\n",
    "    print ('你真菜！')"
   ]
  },
  {
   "cell_type": "markdown",
   "metadata": {},
   "source": [
    "## if语句\n",
    "- 如果条件正确就执行一个单向if语句，亦即当条件为真的时候才执行if内部的语句\n",
    "- Python有很多选择语句:\n",
    "> - 单向if \n",
    "  - 双向if-else\n",
    "  - 嵌套if\n",
    "  - 多向if-elif-else\n",
    "  \n",
    "- 注意：当语句含有子语句的时候，那么一定至少要有一个缩进，也就是说如果有儿子存在，那么一定要缩进\n",
    "- 切记不可tab键和space混用，单用tab 或者 space\n",
    "- 当你输出的结果是无论if是否为真时都需要显示时，语句应该与if对齐"
   ]
  },
  {
   "cell_type": "code",
   "execution_count": null,
   "metadata": {},
   "outputs": [],
   "source": [
    "import random\n",
    "nianling = eval(input('请输入年龄：'))\n",
    "zhangxiang = (input('请输入长相：'))\n",
    "shouru = (input('请输入收入：'))\n",
    "gongwuyuan= (input('请输入是否是公务员：'))\n"
   ]
  },
  {
   "cell_type": "markdown",
   "metadata": {},
   "source": [
    "## EP：\n",
    "- 用户输入一个数字，判断其实奇数还是偶数\n",
    "- 进阶：可以查看下4.5实例研究猜生日"
   ]
  },
  {
   "cell_type": "markdown",
   "metadata": {},
   "source": [
    "## 双向if-else 语句\n",
    "- 如果条件为真，那么走if内部语句，否则走else内部语句"
   ]
  },
  {
   "cell_type": "markdown",
   "metadata": {},
   "source": [
    "## EP：\n",
    "- 产生两个随机整数number1和number2，然后显示给用户，使用户输入数字，并判定其是否正确,如果正确打印“you‘re correct”，否则打印正确错误"
   ]
  },
  {
   "cell_type": "markdown",
   "metadata": {},
   "source": [
    "## 嵌套if 和多向if-elif-else\n",
    "![](../Photo/35.png)"
   ]
  },
  {
   "cell_type": "markdown",
   "metadata": {},
   "source": [
    "## EP：\n",
    "- 提示用户输入一个年份，然后显示表示这一年的动物\n",
    "![](../Photo/36.png)\n",
    "- 计算身体质量指数的程序\n",
    "- BMI = 以千克为单位的体重除以以米为单位的身高\n",
    "![](../Photo/37.png)"
   ]
  },
  {
   "cell_type": "code",
   "execution_count": 3,
   "metadata": {},
   "outputs": [
    {
     "name": "stdout",
     "output_type": "stream",
     "text": [
      "请输入一个年份：2000\n",
      "龙\n"
     ]
    }
   ],
   "source": [
    "import random\n",
    "years = eval(input('请输入一个年份：'))\n",
    "if years%12 == 0:\n",
    "    print('猴')\n",
    "if years%12 == 1:\n",
    "    print('鸡')\n",
    "if years%12 == 2:\n",
    "    print('狗')\n",
    "if years%12 == 3:\n",
    "    print('猪')\n",
    "if years%12 == 4:\n",
    "    print('鼠')\n",
    "if years%12 == 5:\n",
    "    print('牛')\n",
    "if years%12 == 6:\n",
    "    print('虎')\n",
    "if years%12 == 7:\n",
    "    print('兔')\n",
    "if years%12 == 8:\n",
    "    print('龙')\n",
    "if years%12 == 9:\n",
    "    print('蛇')\n",
    "if years%12 == 10:\n",
    "    print('马')\n",
    "if years%12 == 11:\n",
    "    print('羊')"
   ]
  },
  {
   "cell_type": "code",
   "execution_count": null,
   "metadata": {},
   "outputs": [],
   "source": []
  },
  {
   "cell_type": "markdown",
   "metadata": {},
   "source": [
    "## 逻辑运算符\n",
    "![](../Photo/38.png)"
   ]
  },
  {
   "cell_type": "markdown",
   "metadata": {},
   "source": [
    "![](../Photo/39.png)\n",
    "![](../Photo/40.png)"
   ]
  },
  {
   "cell_type": "markdown",
   "metadata": {},
   "source": [
    "## EP：\n",
    "- 判定闰年：一个年份如果能被4整除但不能被100整除，或者能被400整除，那么这个年份就是闰年\n",
    "- 提示用户输入一个年份，并返回是否是闰年\n",
    "- 提示用户输入一个数字，判断其是否为水仙花数"
   ]
  },
  {
   "cell_type": "code",
   "execution_count": 12,
   "metadata": {},
   "outputs": [
    {
     "name": "stdout",
     "output_type": "stream",
     "text": [
      "请输入一个年份：2015\n",
      "该年不是闰年！\n"
     ]
    }
   ],
   "source": [
    "import random\n",
    "years = eval(input('请输入一个年份：'))\n",
    "if ((years%4) == 0 and (years%100 !=0)) or (years%400 == 0):\n",
    "    print('该年是闰年！')\n",
    "else:\n",
    "    print('该年不是闰年！')"
   ]
  },
  {
   "cell_type": "code",
   "execution_count": 4,
   "metadata": {},
   "outputs": [
    {
     "name": "stdout",
     "output_type": "stream",
     "text": [
      "请输入一个3位数：153\n",
      "该数是水仙花数\n"
     ]
    }
   ],
   "source": [
    "import random\n",
    "sxh = eval(input('请输入一个3位数：'))\n",
    "a = sxh%10\n",
    "b = sxh//10\n",
    "c = b%10\n",
    "d = b//10\n",
    "if a**3+c**3+d**3 == sxh:\n",
    "    print ('该数是水仙花数')\n",
    "else:\n",
    "    print ('该数不是水仙花数')"
   ]
  },
  {
   "cell_type": "markdown",
   "metadata": {},
   "source": [
    "## 实例研究：彩票\n",
    "![](../Photo/41.png)"
   ]
  },
  {
   "cell_type": "code",
   "execution_count": 15,
   "metadata": {},
   "outputs": [
    {
     "name": "stdout",
     "output_type": "stream",
     "text": [
      "请输入一个两位数：98\n",
      "19\n"
     ]
    }
   ],
   "source": [
    "import random\n",
    "num = eval(input('请输入一个两位数：'))\n",
    "haoma = random.randint(11,19)or(21,29)or(31,39)or(41,49)or(51,59)or(61,69)or(71,79)or(81,89)or(91,99)\n",
    "if num == haoma:\n",
    "    print('$10000')\n",
    "    print (haoma)\n",
    "else:\n",
    "    print(haoma)\n"
   ]
  },
  {
   "cell_type": "markdown",
   "metadata": {},
   "source": [
    "# Homework\n",
    "- 1\n",
    "![](../Photo/42.png)"
   ]
  },
  {
   "cell_type": "code",
   "execution_count": 30,
   "metadata": {},
   "outputs": [
    {
     "name": "stdout",
     "output_type": "stream",
     "text": [
      "请输入a，b，c的值1,2,3\n",
      "The equation has no real roots\n"
     ]
    }
   ],
   "source": [
    "import math\n",
    "a,b,c = eval(input('请输入a，b，c的值'))\n",
    "if (b**2-4*a*c)>0:\n",
    "    r1 = ((-b+math.sqrt(b**2-4*a*c))/(2*a))\n",
    "    r2 = ((-b-math.sqrt(b**2-4*a*c))/(2*a))\n",
    "    print(r1,r2)\n",
    "if (b**2-4*a*c)==0:\n",
    "    r1 = ((-b+math.sqrt(b**2-4*a*c))/(2*a))\n",
    "    r2 = ((-b-math.sqrt(b**2-4*a*c))/(2*a))\n",
    "    print(r1)\n",
    "else:\n",
    "    print('The equation has no real roots')"
   ]
  },
  {
   "cell_type": "markdown",
   "metadata": {},
   "source": [
    "- 2\n",
    "![](../Photo/43.png)"
   ]
  },
  {
   "cell_type": "code",
   "execution_count": 9,
   "metadata": {},
   "outputs": [
    {
     "name": "stdout",
     "output_type": "stream",
     "text": [
      "32\n",
      "19\n",
      "请输入正确答案：3232\n",
      "你真菜！\n"
     ]
    }
   ],
   "source": [
    "import random\n",
    "suijishu1 = random.randint(0,100)\n",
    "suijishu2 = random.randint(0,100)\n",
    "sum = suijishu1+suijishu2\n",
    "print (suijishu1)\n",
    "print (suijishu2)\n",
    "daan = eval(input('请输入正确答案：'))\n",
    "if daan == sum:\n",
    "    print ('你好棒棒呦！')\n",
    "else:\n",
    "    print ('你真菜！')"
   ]
  },
  {
   "cell_type": "markdown",
   "metadata": {},
   "source": [
    "- 3\n",
    "![](../Photo/44.png)"
   ]
  },
  {
   "cell_type": "code",
   "execution_count": 188,
   "metadata": {},
   "outputs": [
    {
     "name": "stdout",
     "output_type": "stream",
     "text": [
      "Enter today is day: 3\n",
      "Enter the number of days elapsed since today； 6\n",
      "Today is Wednesday and the future day is Tuesday\n"
     ]
    }
   ],
   "source": [
    "day = eval(input('Enter today is day: '))\n",
    "since = eval(input('Enter the number of days elapsed since today； '))\n",
    "today = (day + since)%7\n",
    "if day == 0:             #判断今天是星期几\n",
    "    day1 = 'Sunday'\n",
    "elif day ==1:\n",
    "    day1 = 'Monday'\n",
    "elif day ==2:\n",
    "    day1 = 'Tuesday'\n",
    "elif day ==3:\n",
    "    day1 = 'Wednesday'\n",
    "elif day ==4:\n",
    "    day1 = 'Thursday'\n",
    "elif day ==5:\n",
    "    day1 = 'Friday'\n",
    "elif day ==6:\n",
    "    day1 = 'Saturday'\n",
    "\n",
    "if today == 0:             #判断几天后是星期几\n",
    "    day2 = 'Sunday'\n",
    "elif today ==1:\n",
    "    day2 = 'Monday'\n",
    "elif today ==2:\n",
    "    day2 = 'Tuesday'\n",
    "elif today ==3:\n",
    "    day2 = 'Wednesday'\n",
    "elif today ==4:\n",
    "    day2 = 'Thursday'\n",
    "elif today ==5:\n",
    "    day2 = 'Friday'\n",
    "elif today ==6:\n",
    "    day2 = 'Saturday'\n",
    "print('Today is '+str(day1)+' and the future day is '+str(day2))"
   ]
  },
  {
   "cell_type": "markdown",
   "metadata": {},
   "source": [
    "- 4\n",
    "![](../Photo/45.png)"
   ]
  },
  {
   "cell_type": "code",
   "execution_count": 60,
   "metadata": {},
   "outputs": [
    {
     "name": "stdout",
     "output_type": "stream",
     "text": [
      "输入三个整数1,5,2\n",
      "1 2 5\n"
     ]
    }
   ],
   "source": [
    "a,b,c=eval(input(\"输入三个整数\"))\n",
    "if a>b:\n",
    "    t=b\n",
    "    b=a\n",
    "    a=t\n",
    "elif b>c:\n",
    "    t=c\n",
    "    c=b\n",
    "    b=t\n",
    "elif a>c:\n",
    "    t=c\n",
    "    c=a\n",
    "    a=t\n",
    "print(str(a),str(b),str(c))\n"
   ]
  },
  {
   "cell_type": "markdown",
   "metadata": {},
   "source": [
    "- 5\n",
    "![](../Photo/46.png)"
   ]
  },
  {
   "cell_type": "code",
   "execution_count": 79,
   "metadata": {},
   "outputs": [
    {
     "name": "stdout",
     "output_type": "stream",
     "text": [
      "请输入第一种大米的重量：100\n",
      "请输入第一种大米的价格：100\n",
      "请输入第二种大米的重量：100\n",
      "请输入第二种大米的价格：100\n",
      "Package 1 has the better price!\n"
     ]
    }
   ],
   "source": [
    "weight1 = eval(input('请输入第一种大米的重量：'))\n",
    "price1 = eval(input('请输入第一种大米的价格：'))\n",
    "weight2 = eval(input('请输入第二种大米的重量：'))\n",
    "price2 = eval(input('请输入第二种大米的价格：'))\n",
    "if (price1/weight1)>(price2/weight2):\n",
    "    print ('Package 2 has the better price!')\n",
    "else:\n",
    "    print ('Package 1 has the better price!')"
   ]
  },
  {
   "cell_type": "markdown",
   "metadata": {},
   "source": [
    "- 6\n",
    "![](../Photo/47.png)"
   ]
  },
  {
   "cell_type": "code",
   "execution_count": 76,
   "metadata": {},
   "outputs": [
    {
     "name": "stdout",
     "output_type": "stream",
     "text": [
      "请输入年份：2018\n",
      "请输入月份：9\n",
      "2018年9月份有28天\n"
     ]
    }
   ],
   "source": [
    "import math\n",
    "years = eval(input('请输入年份：'))\n",
    "month = eval(input('请输入月份：'))\n",
    "if month == (1,3,5,7,8,10,12):\n",
    "    print (str(years)+'年'+str(month)+'月份有31天')\n",
    "elif month == (4,6,9,11):\n",
    "    print (str(years)+'年'+str(month)+'月份有30天')\n",
    "elif ((years%4) == 0 and (years%100 !=0)):\n",
    "    print (str(years)+'年'+str(month)+'月份有29天')\n",
    "else:\n",
    "    print (str(years)+'年'+str(month)+'月份有28天')"
   ]
  },
  {
   "cell_type": "markdown",
   "metadata": {},
   "source": [
    "- 7\n",
    "![](../Photo/48.png)"
   ]
  },
  {
   "cell_type": "code",
   "execution_count": 59,
   "metadata": {},
   "outputs": [
    {
     "name": "stdout",
     "output_type": "stream",
     "text": [
      "请输入0或11\n",
      "你猜错了\n"
     ]
    }
   ],
   "source": [
    "import random\n",
    "num = eval(input('请输入0或1'))\n",
    "pc = random.randint(0,1)\n",
    "if num == pc:\n",
    "    print('你猜对了')\n",
    "else:\n",
    "    print('你猜错了')"
   ]
  },
  {
   "cell_type": "markdown",
   "metadata": {},
   "source": [
    "- 8\n",
    "![](../Photo/49.png)"
   ]
  },
  {
   "cell_type": "code",
   "execution_count": 126,
   "metadata": {},
   "outputs": [
    {
     "name": "stdout",
     "output_type": "stream",
     "text": [
      "请输入0，1或2：0\n",
      "平局\n"
     ]
    }
   ],
   "source": [
    "import random\n",
    "num = eval(input('请输入0，1或2：'))\n",
    "pc = random.randint(0,2)\n",
    "if (num-pc==1)or(num==0and(pc==2)):\n",
    "    print('你赢了')\n",
    "elif (pc-num==1)or(num==2and(pc==0)):\n",
    "    print('你输了')\n",
    "else:\n",
    "    print('平局')"
   ]
  },
  {
   "cell_type": "markdown",
   "metadata": {},
   "source": [
    "- 9\n",
    "![](../Photo/50.png)"
   ]
  },
  {
   "cell_type": "code",
   "execution_count": 202,
   "metadata": {},
   "outputs": [
    {
     "name": "stdout",
     "output_type": "stream",
     "text": [
      "请输入年份：2012\n",
      "请输入月份：5\n",
      "请输入天数：12\n",
      "Day of the week is Saturday\n"
     ]
    }
   ],
   "source": [
    "y = eval(input('请输入年份：'))\n",
    "m = eval(input('请输入月份：'))\n",
    "q = eval(input('请输入天数：'))\n",
    "j = y//100//1\n",
    "k = y%100\n",
    "if m == 1:\n",
    "    m = 13\n",
    "elif m == 2:\n",
    "    m = 14\n",
    "h = (q + (26*(m+1))/10//1+k+k/4//1+j/4//1+5*j)%7\n",
    "if h == 0:\n",
    "    print ('Day of the week is Saturday')\n",
    "elif h ==1:\n",
    "    print ('Day of the week is Sunday')\n",
    "elif h ==2:\n",
    "    print ('Day of the week is Monday')\n",
    "elif h ==3:\n",
    "    print ('Day of the week is Tuesday')\n",
    "elif h ==4:\n",
    "    print ('Day of the week is Wednesday')\n",
    "elif h ==5:\n",
    "    print ('Day of the week is Thursday')\n",
    "elif h ==6:\n",
    "    print ('Day of the week is Friday')"
   ]
  },
  {
   "cell_type": "markdown",
   "metadata": {},
   "source": [
    "- 10\n",
    "![](../Photo/51.png)"
   ]
  },
  {
   "cell_type": "code",
   "execution_count": 152,
   "metadata": {},
   "outputs": [
    {
     "name": "stdout",
     "output_type": "stream",
     "text": [
      "DiamondJack\n"
     ]
    }
   ],
   "source": [
    "import random\n",
    "A=['Ace',2,3,4,5,6,7,8,9,10,'Jack','Queen','King']\n",
    "ran=random.randint(0,len(A)-1)\n",
    "B=['Diamond','Heart','Spade','Club']\n",
    "can=random.randint(0,len(B)-1)\n",
    "print(str(B[can])+str(A[ran]))"
   ]
  },
  {
   "cell_type": "markdown",
   "metadata": {},
   "source": [
    "- 11\n",
    "![](../Photo/52.png)"
   ]
  },
  {
   "cell_type": "code",
   "execution_count": 40,
   "metadata": {},
   "outputs": [
    {
     "name": "stdout",
     "output_type": "stream",
     "text": [
      "请输入一个三位数：323\n",
      "323是一个回文数\n"
     ]
    }
   ],
   "source": [
    "num = eval(input('请输入一个三位数：'))\n",
    "a = num%10\n",
    "b = num//10\n",
    "c = b%10\n",
    "d = b//10\n",
    "if a==d:\n",
    "    print(str(num)+'是一个回文数')\n",
    "else:\n",
    "    print(str(num)+'不是一个回文数')"
   ]
  },
  {
   "cell_type": "markdown",
   "metadata": {},
   "source": [
    "- 12\n",
    "![](../Photo/53.png)"
   ]
  },
  {
   "cell_type": "code",
   "execution_count": 36,
   "metadata": {},
   "outputs": [
    {
     "name": "stdout",
     "output_type": "stream",
     "text": [
      "请输入三角形的三条边长：1,1,1\n",
      "3\n"
     ]
    }
   ],
   "source": [
    "a,b,c = eval(input('请输入三角形的三条边长：'))\n",
    "if (a+b<=c)or(a+c<=b)or(b+c<=a):\n",
    "    print('这个输入是非法的！')\n",
    "else:\n",
    "    print(a+b+c)"
   ]
  }
 ],
 "metadata": {
  "kernelspec": {
   "display_name": "Python 3",
   "language": "python",
   "name": "python3"
  },
  "language_info": {
   "codemirror_mode": {
    "name": "ipython",
    "version": 3
   },
   "file_extension": ".py",
   "mimetype": "text/x-python",
   "name": "python",
   "nbconvert_exporter": "python",
   "pygments_lexer": "ipython3",
   "version": "3.6.4"
  }
 },
 "nbformat": 4,
 "nbformat_minor": 2
}
